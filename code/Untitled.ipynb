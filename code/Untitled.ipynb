{
 "cells": [
  {
   "cell_type": "code",
   "execution_count": 50,
   "metadata": {
    "collapsed": false
   },
   "outputs": [],
   "source": [
    "import ROOT\n",
    "from ROOT import TFile, TProfile, TCanvas\n"
   ]
  },
  {
   "cell_type": "code",
   "execution_count": 47,
   "metadata": {
    "collapsed": false
   },
   "outputs": [
    {
     "name": "stderr",
     "output_type": "stream",
     "text": [
      "\u001b[1minput_line_103:2:9: \u001b[0m\u001b[0;1;31merror: \u001b[0m\u001b[1mredefinition of 'f'\u001b[0m\r\n",
      " TFile* f = new TFile(\"/home/dawid/PITE/PITEml/data/165527/VELODQM_16552...\r\n",
      "\u001b[0;1;32m        ^\r\n",
      "\u001b[0m\u001b[1minput_line_102:2:9: \u001b[0m\u001b[0;1;30mnote: \u001b[0mprevious definition is here\u001b[0m\r\n",
      " TFile* f = new TFile(\"/home/dawid/PITE/PITEml/data/165527/VELODQM_16552...\r\n",
      "\u001b[0;1;32m        ^\r\n",
      "\u001b[0m"
     ]
    }
   ],
   "source": [
    "%%cpp\n",
    "TFile* f = new TFile(\"/home/dawid/PITE/PITEml/data/165527/VELODQM_165527_2015-10-12_18.55.28_NZS.root\");"
   ]
  },
  {
   "cell_type": "code",
   "execution_count": 51,
   "metadata": {
    "collapsed": false
   },
   "outputs": [
    {
     "ename": "SystemError",
     "evalue": "long TInterpreter::ProcessLine(const char* line, TInterpreter::EErrorCode* error = 0) =>\n    problem in C++; program state has been reset",
     "output_type": "error",
     "traceback": [
      "\u001b[1;31m---------------------------------------------------------------------------\u001b[0m",
      "\u001b[1;31mSystemError\u001b[0m                               Traceback (most recent call last)",
      "\u001b[1;32m<ipython-input-51-c155cfc881d5>\u001b[0m in \u001b[0;36m<module>\u001b[1;34m()\u001b[0m\n\u001b[1;32m----> 1\u001b[1;33m \u001b[0mget_ipython\u001b[0m\u001b[1;33m(\u001b[0m\u001b[1;33m)\u001b[0m\u001b[1;33m.\u001b[0m\u001b[0mrun_cell_magic\u001b[0m\u001b[1;33m(\u001b[0m\u001b[1;34mu'cpp'\u001b[0m\u001b[1;33m,\u001b[0m \u001b[1;34mu''\u001b[0m\u001b[1;33m,\u001b[0m \u001b[1;34mu'f->cd(\"Vetra;1/VeloPedestalSubtractorMoni/TELL1_004;1\");\\n\\nTCanvas * cv = new TCanvas(\"cnv\", \"title\", 800, 600);\\nPed_Sub_ADCs_2D->Draw(\"colz\");\\n// proj_y = Ped_Sub_ADCs_2D->ProjectionY();\\n// proj_y->Draw();\\ncv->Draw();'\u001b[0m\u001b[1;33m)\u001b[0m\u001b[1;33m\u001b[0m\u001b[0m\n\u001b[0m",
      "\u001b[1;32m/usr/local/lib/python2.7/dist-packages/IPython/core/interactiveshell.pyc\u001b[0m in \u001b[0;36mrun_cell_magic\u001b[1;34m(self, magic_name, line, cell)\u001b[0m\n\u001b[0;32m   2118\u001b[0m             \u001b[0mmagic_arg_s\u001b[0m \u001b[1;33m=\u001b[0m \u001b[0mself\u001b[0m\u001b[1;33m.\u001b[0m\u001b[0mvar_expand\u001b[0m\u001b[1;33m(\u001b[0m\u001b[0mline\u001b[0m\u001b[1;33m,\u001b[0m \u001b[0mstack_depth\u001b[0m\u001b[1;33m)\u001b[0m\u001b[1;33m\u001b[0m\u001b[0m\n\u001b[0;32m   2119\u001b[0m             \u001b[1;32mwith\u001b[0m \u001b[0mself\u001b[0m\u001b[1;33m.\u001b[0m\u001b[0mbuiltin_trap\u001b[0m\u001b[1;33m:\u001b[0m\u001b[1;33m\u001b[0m\u001b[0m\n\u001b[1;32m-> 2120\u001b[1;33m                 \u001b[0mresult\u001b[0m \u001b[1;33m=\u001b[0m \u001b[0mfn\u001b[0m\u001b[1;33m(\u001b[0m\u001b[0mmagic_arg_s\u001b[0m\u001b[1;33m,\u001b[0m \u001b[0mcell\u001b[0m\u001b[1;33m)\u001b[0m\u001b[1;33m\u001b[0m\u001b[0m\n\u001b[0m\u001b[0;32m   2121\u001b[0m             \u001b[1;32mreturn\u001b[0m \u001b[0mresult\u001b[0m\u001b[1;33m\u001b[0m\u001b[0m\n\u001b[0;32m   2122\u001b[0m \u001b[1;33m\u001b[0m\u001b[0m\n",
      "\u001b[1;32m/home/dawid/root/root/lib/ROOTaaS/iPyROOT/cppmagic.pyc\u001b[0m in \u001b[0;36mcpp\u001b[1;34m(self, line, cell)\u001b[0m\n",
      "\u001b[1;32m/usr/local/lib/python2.7/dist-packages/IPython/core/magic.pyc\u001b[0m in \u001b[0;36m<lambda>\u001b[1;34m(f, *a, **k)\u001b[0m\n\u001b[0;32m    191\u001b[0m     \u001b[1;31m# but it's overkill for just that one bit of state.\u001b[0m\u001b[1;33m\u001b[0m\u001b[1;33m\u001b[0m\u001b[0m\n\u001b[0;32m    192\u001b[0m     \u001b[1;32mdef\u001b[0m \u001b[0mmagic_deco\u001b[0m\u001b[1;33m(\u001b[0m\u001b[0marg\u001b[0m\u001b[1;33m)\u001b[0m\u001b[1;33m:\u001b[0m\u001b[1;33m\u001b[0m\u001b[0m\n\u001b[1;32m--> 193\u001b[1;33m         \u001b[0mcall\u001b[0m \u001b[1;33m=\u001b[0m \u001b[1;32mlambda\u001b[0m \u001b[0mf\u001b[0m\u001b[1;33m,\u001b[0m \u001b[1;33m*\u001b[0m\u001b[0ma\u001b[0m\u001b[1;33m,\u001b[0m \u001b[1;33m**\u001b[0m\u001b[0mk\u001b[0m\u001b[1;33m:\u001b[0m \u001b[0mf\u001b[0m\u001b[1;33m(\u001b[0m\u001b[1;33m*\u001b[0m\u001b[0ma\u001b[0m\u001b[1;33m,\u001b[0m \u001b[1;33m**\u001b[0m\u001b[0mk\u001b[0m\u001b[1;33m)\u001b[0m\u001b[1;33m\u001b[0m\u001b[0m\n\u001b[0m\u001b[0;32m    194\u001b[0m \u001b[1;33m\u001b[0m\u001b[0m\n\u001b[0;32m    195\u001b[0m         \u001b[1;32mif\u001b[0m \u001b[0mcallable\u001b[0m\u001b[1;33m(\u001b[0m\u001b[0marg\u001b[0m\u001b[1;33m)\u001b[0m\u001b[1;33m:\u001b[0m\u001b[1;33m\u001b[0m\u001b[0m\n",
      "\u001b[1;32m/home/dawid/root/root/lib/ROOTaaS/iPyROOT/cppmagic.pyc\u001b[0m in \u001b[0;36mcpp\u001b[1;34m(self, line, cell)\u001b[0m\n\u001b[0;32m     19\u001b[0m             \u001b[0mutils\u001b[0m\u001b[1;33m.\u001b[0m\u001b[0mdeclareCppCode\u001b[0m\u001b[1;33m(\u001b[0m\u001b[0mcell\u001b[0m\u001b[1;33m)\u001b[0m\u001b[1;33m\u001b[0m\u001b[0m\n\u001b[0;32m     20\u001b[0m         \u001b[1;32melse\u001b[0m\u001b[1;33m:\u001b[0m\u001b[1;33m\u001b[0m\u001b[0m\n\u001b[1;32m---> 21\u001b[1;33m             \u001b[0mutils\u001b[0m\u001b[1;33m.\u001b[0m\u001b[0mprocessCppCode\u001b[0m\u001b[1;33m(\u001b[0m\u001b[0mcell\u001b[0m\u001b[1;33m)\u001b[0m\u001b[1;33m\u001b[0m\u001b[0m\n\u001b[0m\u001b[0;32m     22\u001b[0m \u001b[1;33m\u001b[0m\u001b[0m\n\u001b[0;32m     23\u001b[0m \u001b[1;32mdef\u001b[0m \u001b[0mload_ipython_extension\u001b[0m\u001b[1;33m(\u001b[0m\u001b[0mipython\u001b[0m\u001b[1;33m)\u001b[0m\u001b[1;33m:\u001b[0m\u001b[1;33m\u001b[0m\u001b[0m\n",
      "\u001b[1;32m/home/dawid/root/root/lib/ROOTaaS/iPyROOT/utils.pyc\u001b[0m in \u001b[0;36mprocessCppCode\u001b[1;34m(code)\u001b[0m\n\u001b[0;32m    155\u001b[0m \u001b[1;33m\u001b[0m\u001b[0m\n\u001b[0;32m    156\u001b[0m \u001b[1;32mdef\u001b[0m \u001b[0mprocessCppCode\u001b[0m\u001b[1;33m(\u001b[0m\u001b[0mcode\u001b[0m\u001b[1;33m)\u001b[0m\u001b[1;33m:\u001b[0m\u001b[1;33m\u001b[0m\u001b[0m\n\u001b[1;32m--> 157\u001b[1;33m     \u001b[0mprocessCppCodeImpl\u001b[0m\u001b[1;33m(\u001b[0m\u001b[0mcode\u001b[0m\u001b[1;33m)\u001b[0m\u001b[1;33m\u001b[0m\u001b[0m\n\u001b[0m\u001b[0;32m    158\u001b[0m \u001b[1;33m\u001b[0m\u001b[0m\n\u001b[0;32m    159\u001b[0m \u001b[1;32mdef\u001b[0m \u001b[0mdeclareCppCode\u001b[0m\u001b[1;33m(\u001b[0m\u001b[0mcode\u001b[0m\u001b[1;33m)\u001b[0m\u001b[1;33m:\u001b[0m\u001b[1;33m\u001b[0m\u001b[0m\n",
      "\u001b[1;32m/home/dawid/root/root/lib/ROOTaaS/iPyROOT/utils.pyc\u001b[0m in \u001b[0;36mprocessCppCodeImpl\u001b[1;34m(code)\u001b[0m\n\u001b[0;32m    148\u001b[0m \u001b[1;32mdef\u001b[0m \u001b[0mprocessCppCodeImpl\u001b[0m\u001b[1;33m(\u001b[0m\u001b[0mcode\u001b[0m\u001b[1;33m)\u001b[0m\u001b[1;33m:\u001b[0m\u001b[1;33m\u001b[0m\u001b[0m\n\u001b[0;32m    149\u001b[0m     \u001b[1;31m#code = commentRemover(code)\u001b[0m\u001b[1;33m\u001b[0m\u001b[1;33m\u001b[0m\u001b[0m\n\u001b[1;32m--> 150\u001b[1;33m     \u001b[0mROOT\u001b[0m\u001b[1;33m.\u001b[0m\u001b[0mgInterpreter\u001b[0m\u001b[1;33m.\u001b[0m\u001b[0mProcessLine\u001b[0m\u001b[1;33m(\u001b[0m\u001b[0mcode\u001b[0m\u001b[1;33m)\u001b[0m\u001b[1;33m\u001b[0m\u001b[0m\n\u001b[0m\u001b[0;32m    151\u001b[0m \u001b[1;33m\u001b[0m\u001b[0m\n\u001b[0;32m    152\u001b[0m \u001b[1;32mdef\u001b[0m \u001b[0mdeclareCppCodeImpl\u001b[0m\u001b[1;33m(\u001b[0m\u001b[0mcode\u001b[0m\u001b[1;33m)\u001b[0m\u001b[1;33m:\u001b[0m\u001b[1;33m\u001b[0m\u001b[0m\n",
      "\u001b[1;31mSystemError\u001b[0m: long TInterpreter::ProcessLine(const char* line, TInterpreter::EErrorCode* error = 0) =>\n    problem in C++; program state has been reset"
     ]
    },
    {
     "name": "stderr",
     "output_type": "stream",
     "text": [
      "\r\n",
      " *** Break *** segmentation violation\r\n",
      "\r\n",
      "\r\n",
      "\r\n",
      "===========================================================\r\n",
      "There was a crash.\r\n",
      "This is the entire stack trace of all threads:\r\n",
      "===========================================================\r\n",
      "\r\n",
      "Thread 9 (Thread 0x7f68d6dd2700 (LWP 3069)):\r\n",
      "#0  0x00007f68dde4eb13 in epoll_wait () at ../sysdeps/unix/syscall-template.S:81\r\n",
      "#1  0x00007f68d9a82b16 in ?? () from /usr/lib/x86_64-linux-gnu/libzmq.so.3\r\n",
      "#2  0x00007f68d9aa71e0 in ?? () from /usr/lib/x86_64-linux-gnu/libzmq.so.3\r\n",
      "#3  0x00007f68de121182 in start_thread (arg=0x7f68d6dd2700) at pthread_create.c:312\r\n",
      "#4  0x00007f68dde4e47d in clone () at ../sysdeps/unix/sysv/linux/x86_64/clone.S:111\r\n",
      "\r\n",
      "Thread 8 (Thread 0x7f68d65d1700 (LWP 3070)):\r\n",
      "#0  0x00007f68dde4eb13 in epoll_wait () at ../sysdeps/unix/syscall-template.S:81\r\n",
      "#1  0x00007f68d9a82b16 in ?? () from /usr/lib/x86_64-linux-gnu/libzmq.so.3\r\n",
      "#2  0x00007f68d9aa71e0 in ?? () from /usr/lib/x86_64-linux-gnu/libzmq.so.3\r\n",
      "#3  0x00007f68de121182 in start_thread (arg=0x7f68d65d1700) at pthread_create.c:312\r\n",
      "#4  0x00007f68dde4e47d in clone () at ../sysdeps/unix/sysv/linux/x86_64/clone.S:111\r\n",
      "\r\n",
      "Thread 7 (Thread 0x7f68d5dd0700 (LWP 3072)):\r\n",
      "#0  0x00007f68dde4112d in poll () at ../sysdeps/unix/syscall-template.S:81\r\n",
      "#1  0x00007f68d9aaf35d in zmq_poll () from /usr/lib/x86_64-linux-gnu/libzmq.so.3\r\n",
      "#2  0x00007f68d8437e91 in ?? () from /usr/lib/python2.7/dist-packages/zmq/backend/cython/_poll.x86_64-linux-gnu.so\r\n",
      "#3  0x000000000049ec76 in PyEval_EvalFrameEx ()\r\n",
      "#4  0x00000000004a090c in PyEval_EvalCodeEx ()\r\n",
      "#5  0x0000000000499a52 in PyEval_EvalFrameEx ()\r\n",
      "#6  0x00000000004a090c in PyEval_EvalCodeEx ()\r\n",
      "#7  0x000000000049ab45 in PyEval_EvalFrameEx ()\r\n",
      "#8  0x00000000004a090c in PyEval_EvalCodeEx ()\r\n",
      "#9  0x000000000049ab45 in PyEval_EvalFrameEx ()\r\n",
      "#10 0x00000000004a090c in PyEval_EvalCodeEx ()\r\n",
      "#11 0x000000000049ab45 in PyEval_EvalFrameEx ()\r\n",
      "#12 0x00000000004a1c9a in ?? ()\r\n",
      "#13 0x0000000000505f96 in PyObject_Call ()\r\n",
      "#14 0x000000000049b07a in PyEval_EvalFrameEx ()\r\n",
      "#15 0x0000000000499ef2 in PyEval_EvalFrameEx ()\r\n",
      "#16 0x0000000000499ef2 in PyEval_EvalFrameEx ()\r\n",
      "#17 0x00000000004a1c9a in ?? ()\r\n",
      "#18 0x00000000004dfe94 in ?? ()\r\n",
      "#19 0x00000000004dc9cb in PyEval_CallObjectWithKeywords ()\r\n",
      "#20 0x0000000000588b12 in ?? ()\r\n",
      "#21 0x00007f68de121182 in start_thread (arg=0x7f68d5dd0700) at pthread_create.c:312\r\n",
      "#22 0x00007f68dde4e47d in clone () at ../sysdeps/unix/sysv/linux/x86_64/clone.S:111\r\n",
      "\r\n",
      "Thread 6 (Thread 0x7f68d55cf700 (LWP 3073)):\r\n",
      "#0  0x00007f68dde4112d in poll () at ../sysdeps/unix/syscall-template.S:81\r\n",
      "#1  0x00007f68d9aaf35d in zmq_poll () from /usr/lib/x86_64-linux-gnu/libzmq.so.3\r\n",
      "#2  0x00007f68d9a966d9 in ?? () from /usr/lib/x86_64-linux-gnu/libzmq.so.3\r\n",
      "#3  0x00007f68d802c659 in ?? () from /usr/lib/python2.7/dist-packages/zmq/backend/cython/_device.x86_64-linux-gnu.so\r\n",
      "#4  0x00007f68d802c193 in ?? () from /usr/lib/python2.7/dist-packages/zmq/backend/cython/_device.x86_64-linux-gnu.so\r\n",
      "#5  0x000000000049968d in PyEval_EvalFrameEx ()\r\n",
      "#6  0x0000000000499ef2 in PyEval_EvalFrameEx ()\r\n",
      "#7  0x0000000000499ef2 in PyEval_EvalFrameEx ()\r\n",
      "#8  0x00000000004a1c9a in ?? ()\r\n",
      "#9  0x00000000004dfe94 in ?? ()\r\n",
      "#10 0x00000000004dc9cb in PyEval_CallObjectWithKeywords ()\r\n",
      "#11 0x0000000000588b12 in ?? ()\r\n",
      "#12 0x00007f68de121182 in start_thread (arg=0x7f68d55cf700) at pthread_create.c:312\r\n",
      "#13 0x00007f68dde4e47d in clone () at ../sysdeps/unix/sysv/linux/x86_64/clone.S:111\r\n",
      "\r\n",
      "Thread 5 (Thread 0x7f68d4dce700 (LWP 3074)):\r\n",
      "#0  0x00007f68dde4eb13 in epoll_wait () at ../sysdeps/unix/syscall-template.S:81\r\n",
      "#1  0x00007f68d9a82b16 in ?? () from /usr/lib/x86_64-linux-gnu/libzmq.so.3\r\n",
      "#2  0x00007f68d9aa71e0 in ?? () from /usr/lib/x86_64-linux-gnu/libzmq.so.3\r\n",
      "#3  0x00007f68de121182 in start_thread (arg=0x7f68d4dce700) at pthread_create.c:312\r\n",
      "#4  0x00007f68dde4e47d in clone () at ../sysdeps/unix/sysv/linux/x86_64/clone.S:111\r\n",
      "\r\n",
      "Thread 4 (Thread 0x7f68c7fff700 (LWP 3075)):\r\n",
      "#0  0x00007f68dde4eb13 in epoll_wait () at ../sysdeps/unix/syscall-template.S:81\r\n",
      "#1  0x00007f68d9a82b16 in ?? () from /usr/lib/x86_64-linux-gnu/libzmq.so.3\r\n",
      "#2  0x00007f68d9aa71e0 in ?? () from /usr/lib/x86_64-linux-gnu/libzmq.so.3\r\n",
      "#3  0x00007f68de121182 in start_thread (arg=0x7f68c7fff700) at pthread_create.c:312\r\n",
      "#4  0x00007f68dde4e47d in clone () at ../sysdeps/unix/sysv/linux/x86_64/clone.S:111\r\n",
      "\r\n",
      "Thread 3 (Thread 0x7f68c77fe700 (LWP 3077)):\r\n",
      "#0  sem_wait () at ../nptl/sysdeps/unix/sysv/linux/x86_64/sem_wait.S:85\r\n",
      "#1  0x00000000005608d0 in ?? ()\r\n",
      "#2  0x000000000049968d in PyEval_EvalFrameEx ()\r\n",
      "#3  0x00000000004a090c in PyEval_EvalCodeEx ()\r\n",
      "#4  0x0000000000499a52 in PyEval_EvalFrameEx ()\r\n",
      "#5  0x00000000004a090c in PyEval_EvalCodeEx ()\r\n",
      "#6  0x0000000000499a52 in PyEval_EvalFrameEx ()\r\n",
      "#7  0x00000000004a1c9a in ?? ()\r\n",
      "#8  0x0000000000505f96 in PyObject_Call ()\r\n",
      "#9  0x000000000049b07a in PyEval_EvalFrameEx ()\r\n",
      "#10 0x00000000004a090c in PyEval_EvalCodeEx ()\r\n",
      "#11 0x000000000049ab45 in PyEval_EvalFrameEx ()\r\n",
      "#12 0x0000000000499ef2 in PyEval_EvalFrameEx ()\r\n",
      "#13 0x0000000000499ef2 in PyEval_EvalFrameEx ()\r\n",
      "#14 0x00000000004a1c9a in ?? ()\r\n",
      "#15 0x00000000004dfe94 in ?? ()\r\n",
      "#16 0x00000000004dc9cb in PyEval_CallObjectWithKeywords ()\r\n",
      "#17 0x0000000000588b12 in ?? ()\r\n",
      "#18 0x00007f68de121182 in start_thread (arg=0x7f68c77fe700) at pthread_create.c:312\r\n",
      "#19 0x00007f68dde4e47d in clone () at ../sysdeps/unix/sysv/linux/x86_64/clone.S:111\r\n",
      "\r\n",
      "Thread 2 (Thread 0x7f68c6ffd700 (LWP 3078)):\r\n",
      "#0  sem_wait () at ../nptl/sysdeps/unix/sysv/linux/x86_64/sem_wait.S:85\r\n",
      "#1  0x00000000004f4850 in ?? ()\r\n",
      "#2  0x000000000049968d in PyEval_EvalFrameEx ()\r\n",
      "#3  0x0000000000499ef2 in PyEval_EvalFrameEx ()\r\n",
      "#4  0x0000000000499ef2 in PyEval_EvalFrameEx ()\r\n",
      "#5  0x00000000004a1c9a in ?? ()\r\n",
      "#6  0x00000000004dfe94 in ?? ()\r\n",
      "#7  0x00000000004dc9cb in PyEval_CallObjectWithKeywords ()\r\n",
      "#8  0x0000000000588b12 in ?? ()\r\n",
      "#9  0x00007f68de121182 in start_thread (arg=0x7f68c6ffd700) at pthread_create.c:312\r\n",
      "#10 0x00007f68dde4e47d in clone () at ../sysdeps/unix/sysv/linux/x86_64/clone.S:111\r\n",
      "\r\n",
      "Thread 1 (Thread 0x7f68de525740 (LWP 3063)):\r\n",
      "#0  0x00007f68dde14b99 in __libc_waitpid (pid=5848, stat_loc=stat_loc\r\n",
      "entry=0x7ffc96074140, options=options\r\n",
      "entry=0) at ../sysdeps/unix/sysv/linux/waitpid.c:40\r\n",
      "#1  0x00007f68ddd9a2e2 in do_system (line=<optimized out>) at ../sysdeps/posix/system.c:148\r\n",
      "#2  0x00007f68c5797f13 in TUnixSystem::StackTrace() () from /home/dawid/root/root/lib/libCore.so\r\n",
      "#3  0x00007f68c579a75c in TUnixSystem::DispatchSignals(ESignals) () from /home/dawid/root/root/lib/libCore.so\r\n",
      "#4  <signal handler called>\r\n",
      "#5  0xfffffffffffffffc in ?? ()\r\n",
      "#6  0x00007f68acc31169 in ?? ()\r\n",
      "#7  0x0000000004a19848 in ?? ()\r\n",
      "#8  0x00007ffc960769c0 in ?? ()\r\n",
      "#9  0x00007ffc96076750 in ?? ()\r\n",
      "#10 0x00007f68b6310793 in cling::Interpreter::RunFunction(clang::FunctionDecl const*, cling::Value*) () from /home/dawid/root/root/lib/libCling.so\r\n",
      "#11 0x00007f68b6315e07 in cling::Interpreter::EvaluateInternal(std::string const&, cling::CompilationOptions, cling::Value*, cling::Transaction**) () from /home/dawid/root/root/lib/libCling.so\r\n",
      "#12 0x00007f68b6315f43 in cling::Interpreter::process(std::string const&, cling::Value*, cling::Transaction**) () from /home/dawid/root/root/lib/libCling.so\r\n",
      "#13 0x00007f68b63ade93 in cling::MetaProcessor::process(char const*, cling::Interpreter::CompilationResult&, cling::Value*) () from /home/dawid/root/root/lib/libCling.so\r\n",
      "#14 0x00007f68b629a486 in TCling::ProcessLine(char const*, TInterpreter::EErrorCode*) () from /home/dawid/root/root/lib/libCling.so\r\n",
      "#15 0x00007f68de52f07b in ?? ()\r\n",
      "#16 0x00007ffc96076d50 in ?? ()\r\n",
      "#17 0x00007ffc96076e98 in ?? ()\r\n",
      "#18 0x00007ffc96076dd0 in ?? ()\r\n",
      "#19 0x0000000102fdc240 in ?? ()\r\n",
      "#20 0x0000000001bb3f50 in ?? ()\r\n",
      "#21 0x0000000000000070 in ?? ()\r\n",
      "#22 0x00007ffc96076dbf in ?? ()\r\n",
      "#23 0x00007f68d42117d1 in FastCall(long, void*, void*, void*) () from /home/dawid/root/root/lib/libPyROOT.so\r\n",
      "#24 0x00007f68d4212300 in Cppyy::CallL(long, void*, void*) () from /home/dawid/root/root/lib/libPyROOT.so\r\n",
      "#25 0x00007f68d41eaa1f in PyROOT::TLongExecutor::Execute(long, void*, PyROOT::TCallContext*) () from /home/dawid/root/root/lib/libPyROOT.so\r\n",
      "#26 0x00007f68d41fd5f9 in PyROOT::TMethodHolder::CallSafe(void*, long, PyROOT::TCallContext*) () from /home/dawid/root/root/lib/libPyROOT.so\r\n",
      "#27 0x00007f68d41fbf99 in PyROOT::TMethodHolder::Execute(void*, long, PyROOT::TCallContext*) () from /home/dawid/root/root/lib/libPyROOT.so\r\n",
      "#28 0x00007f68d41fb201 in PyROOT::TMethodHolder::Call(PyROOT::ObjectProxy*&, _object*, _object*, PyROOT::TCallContext*) () from /home/dawid/root/root/lib/libPyROOT.so\r\n",
      "#29 0x00007f68d41e1ed6 in PyROOT::(anonymous namespace)::mp_call(PyROOT::MethodProxy*, _object*, _object*) () from /home/dawid/root/root/lib/libPyROOT.so\r\n",
      "#30 0x0000000000499be5 in PyEval_EvalFrameEx ()\r\n",
      "#31 0x0000000000499ef2 in PyEval_EvalFrameEx ()\r\n",
      "#32 0x0000000000499ef2 in PyEval_EvalFrameEx ()\r\n",
      "#33 0x00000000004a1c9a in ?? ()\r\n",
      "#34 0x0000000000505f96 in PyObject_Call ()\r\n",
      "#35 0x000000000049b07a in PyEval_EvalFrameEx ()\r\n",
      "#36 0x00000000004a090c in PyEval_EvalCodeEx ()\r\n",
      "#37 0x000000000049ab45 in PyEval_EvalFrameEx ()\r\n",
      "#38 0x0000000000499ef2 in PyEval_EvalFrameEx ()\r\n",
      "#39 0x00000000004a090c in PyEval_EvalCodeEx ()\r\n",
      "#40 0x000000000049ab45 in PyEval_EvalFrameEx ()\r\n",
      "#41 0x00000000004a090c in PyEval_EvalCodeEx ()\r\n",
      "#42 0x0000000000588d42 in PyEval_EvalCode ()\r\n",
      "#43 0x000000000049e460 in PyEval_EvalFrameEx ()\r\n",
      "#44 0x00000000004a090c in PyEval_EvalCodeEx ()\r\n",
      "#45 0x0000000000499a52 in PyEval_EvalFrameEx ()\r\n",
      "#46 0x00000000004a090c in PyEval_EvalCodeEx ()\r\n",
      "#47 0x0000000000499a52 in PyEval_EvalFrameEx ()\r\n",
      "#48 0x00000000004a090c in PyEval_EvalCodeEx ()\r\n",
      "#49 0x0000000000499a52 in PyEval_EvalFrameEx ()\r\n",
      "#50 0x00000000004a090c in PyEval_EvalCodeEx ()\r\n",
      "#51 0x0000000000499a52 in PyEval_EvalFrameEx ()\r\n",
      "#52 0x00000000004a090c in PyEval_EvalCodeEx ()\r\n",
      "#53 0x000000000049ab45 in PyEval_EvalFrameEx ()\r\n",
      "#54 0x00000000004a090c in PyEval_EvalCodeEx ()\r\n",
      "#55 0x000000000049ab45 in PyEval_EvalFrameEx ()\r\n",
      "#56 0x00000000004a1c9a in ?? ()\r\n",
      "#57 0x0000000000505f96 in PyObject_Call ()\r\n",
      "#58 0x000000000049b07a in PyEval_EvalFrameEx ()\r\n",
      "#59 0x00000000004a1c9a in ?? ()\r\n",
      "#60 0x0000000000505f96 in PyObject_Call ()\r\n",
      "#61 0x000000000049b07a in PyEval_EvalFrameEx ()\r\n",
      "#62 0x00000000004a090c in PyEval_EvalCodeEx ()\r\n",
      "#63 0x000000000049ab45 in PyEval_EvalFrameEx ()\r\n",
      "#64 0x00000000004a090c in PyEval_EvalCodeEx ()\r\n",
      "#65 0x000000000049ab45 in PyEval_EvalFrameEx ()\r\n",
      "#66 0x00000000004a1c9a in ?? ()\r\n",
      "#67 0x0000000000505f96 in PyObject_Call ()\r\n",
      "#68 0x000000000049b07a in PyEval_EvalFrameEx ()\r\n",
      "#69 0x00000000004a090c in PyEval_EvalCodeEx ()\r\n",
      "#70 0x000000000049ab45 in PyEval_EvalFrameEx ()\r\n",
      "#71 0x00000000004a090c in PyEval_EvalCodeEx ()\r\n",
      "#72 0x000000000049ab45 in PyEval_EvalFrameEx ()\r\n",
      "#73 0x00000000004a090c in PyEval_EvalCodeEx ()\r\n",
      "#74 0x000000000049ab45 in PyEval_EvalFrameEx ()\r\n",
      "#75 0x00000000004a090c in PyEval_EvalCodeEx ()\r\n",
      "#76 0x000000000049ab45 in PyEval_EvalFrameEx ()\r\n",
      "#77 0x00000000004a090c in PyEval_EvalCodeEx ()\r\n",
      "#78 0x0000000000499a52 in PyEval_EvalFrameEx ()\r\n",
      "#79 0x00000000004a090c in PyEval_EvalCodeEx ()\r\n",
      "#80 0x0000000000588d42 in PyEval_EvalCode ()\r\n",
      "#81 0x000000000049e460 in PyEval_EvalFrameEx ()\r\n",
      "#82 0x00000000004a090c in PyEval_EvalCodeEx ()\r\n",
      "#83 0x0000000000499a52 in PyEval_EvalFrameEx ()\r\n",
      "#84 0x00000000004a1c9a in ?? ()\r\n",
      "#85 0x0000000000505f96 in PyObject_Call ()\r\n",
      "#86 0x0000000000451dd3 in ?? ()\r\n",
      "#87 0x000000000044f63e in Py_Main ()\r\n",
      "#88 0x00007f68ddd75ec5 in __libc_start_main (main=0x44f9c2 <main>, argc=5, argv=0x7ffc9607a7f8, init=<optimized out>, fini=<optimized out>, rtld_fini=<optimized out>, stack_end=0x7ffc9607a7e8) at libc-start.c:287\r\n",
      "#89 0x0000000000578c4e in _start ()\r\n",
      "===========================================================\r\n",
      "\r\n",
      "\r\n",
      "The lines below might hint at the cause of the crash.\r\n",
      "If they do not help you then please submit a bug report at\r\n",
      "http://root.cern.ch/bugs. Please post the ENTIRE stack trace\r\n",
      "from above as an attachment in addition to anything else\r\n",
      "that might help us fixing this issue.\r\n",
      "===========================================================\r\n",
      "#5  0xfffffffffffffffc in ?? ()\r\n",
      "#6  0x00007f68acc31169 in ?? ()\r\n",
      "#7  0x0000000004a19848 in ?? ()\r\n",
      "#8  0x00007ffc960769c0 in ?? ()\r\n",
      "#9  0x00007ffc96076750 in ?? ()\r\n",
      "#10 0x00007f68b6310793 in cling::Interpreter::RunFunction(clang::FunctionDecl const*, cling::Value*) () from /home/dawid/root/root/lib/libCling.so\r\n",
      "#11 0x00007f68b6315e07 in cling::Interpreter::EvaluateInternal(std::string const&, cling::CompilationOptions, cling::Value*, cling::Transaction**) () from /home/dawid/root/root/lib/libCling.so\r\n",
      "#12 0x00007f68b6315f43 in cling::Interpreter::process(std::string const&, cling::Value*, cling::Transaction**) () from /home/dawid/root/root/lib/libCling.so\r\n",
      "#13 0x00007f68b63ade93 in cling::MetaProcessor::process(char const*, cling::Interpreter::CompilationResult&, cling::Value*) () from /home/dawid/root/root/lib/libCling.so\r\n",
      "===========================================================\r\n",
      "\r\n",
      "\r\n"
     ]
    }
   ],
   "source": [
    "%%cpp\n",
    "f->cd(\"Vetra;1/VeloPedestalSubtractorMoni/TELL1_004;1\");\n",
    "\n",
    "TCanvas * cv = new TCanvas(\"cnv\", \"title\", 800, 600);\n",
    "Ped_Sub_ADCs_2D->Draw(\"colz\");\n",
    "// proj_y = Ped_Sub_ADCs_2D->ProjectionY();\n",
    "// proj_y->Draw();\n",
    "cv->Draw();"
   ]
  },
  {
   "cell_type": "code",
   "execution_count": 29,
   "metadata": {
    "collapsed": false
   },
   "outputs": [],
   "source": [
    "h = ROOT.TH1F(\"gauss\",\"Example histogram\",100,-4,4)\n",
    "h.FillRandom(\"gaus\")\n",
    "\n",
    "# c = ROOT.TCanvas(\"myCanvasName\",\"The Canvas Title\",800,600)\n",
    "# h.Draw()\n",
    "\n",
    "# c.Draw()\n",
    "\n",
    "# ROOT.enableJSVis()\n",
    "# c.Draw()\n",
    "# ROOT.disableJSVis()"
   ]
  },
  {
   "cell_type": "code",
   "execution_count": 30,
   "metadata": {
    "collapsed": false
   },
   "outputs": [],
   "source": [
    "\n",
    "\n",
    "f = TFile(\"/home/dawid/PITE/PITEml/data/165527/VELODQM_165527_2015-10-12_18.55.28_NZS.root\")"
   ]
  },
  {
   "cell_type": "code",
   "execution_count": 38,
   "metadata": {
    "collapsed": false
   },
   "outputs": [
    {
     "name": "stdout",
     "output_type": "stream",
     "text": [
      "/home/dawid/PITE/PITEml/data/165527/VELODQM_165527_2015-10-12_18.55.28_NZS.root:/\r\n"
     ]
    }
   ],
   "source": [
    "f.cd(\"Vetra;1/VeloPedestalSubtractorMoni/TELL1_004;1\")\n",
    "f.pwd()"
   ]
  },
  {
   "cell_type": "code",
   "execution_count": 37,
   "metadata": {
    "collapsed": false
   },
   "outputs": [
    {
     "data": {
      "text/plain": [
       "<ROOT.TObject object at 0x(nil)>"
      ]
     },
     "execution_count": 37,
     "metadata": {},
     "output_type": "execute_result"
    },
    {
     "name": "stdout",
     "output_type": "stream",
     "text": [
      "    KEY: TDirectoryFile\tTELL1_093;1\tTELL1_093\r\n",
      "    KEY: TDirectoryFile\tTELL1_094;1\tTELL1_094\r\n",
      "    KEY: TDirectoryFile\tTELL1_095;1\tTELL1_095\r\n",
      "    KEY: TDirectoryFile\tTELL1_096;1\tTELL1_096\r\n",
      "    KEY: TDirectoryFile\tTELL1_097;1\tTELL1_097\r\n",
      "    KEY: TDirectoryFile\tTELL1_098;1\tTELL1_098\r\n",
      "    KEY: TDirectoryFile\tTELL1_099;1\tTELL1_099\r\n",
      "    KEY: TDirectoryFile\tTELL1_100;1\tTELL1_100\r\n",
      "    KEY: TDirectoryFile\tTELL1_101;1\tTELL1_101\r\n",
      "    KEY: TDirectoryFile\tTELL1_102;1\tTELL1_102\r\n",
      "    KEY: TDirectoryFile\tTELL1_103;1\tTELL1_103\r\n",
      "    KEY: TDirectoryFile\tTELL1_104;1\tTELL1_104\r\n",
      "    KEY: TDirectoryFile\tTELL1_105;1\tTELL1_105\r\n",
      "   KEY: TDirectoryFile\tVeloPedestalSubtractorMoni;1\tVeloPedestalSubtractorMoni\r\n",
      "   KEY: TDirectoryFile\tNoiseMon;1\tNoiseMon\r\n",
      "   KEY: TDirectoryFile\tRawReader;1\tRawReader\r\n",
      "   KEY: TDirectoryFile\tVeloBeetleHeaderXTalkCorrectionMoni;1\tVeloBeetleHeaderXTalkCorrectionMoni\r\n",
      "  KEY: TDirectoryFile\tVetra;1\tVetra\r\n",
      "  KEY: TDirectoryFile\tVelo;1\tVelo\r\n",
      "  KEY: TDirectoryFile\tVetraInit.VetraMemory;1\tVetraInit.VetraMemory\r\n"
     ]
    }
   ],
   "source": [
    "# f.ls()\n",
    "f.Get(\"Ped_Sub_ADCs_2D;1\")\n",
    "# Ped_Sub_ADCs_Profile.Draw(\"colz\")"
   ]
  },
  {
   "cell_type": "code",
   "execution_count": 43,
   "metadata": {
    "collapsed": false
   },
   "outputs": [
    {
     "name": "stdout",
     "output_type": "stream",
     "text": [
      "<ROOT.THashList object (\"THashList\") at 0x4f420e0>\n"
     ]
    }
   ],
   "source": [
    "f.cd(\"Vetra;1/VeloPedestalSubtractorMoni/TELL1_004;1\");\n",
    "ks = f.GetListOfKeys()\n",
    "print ks\n",
    "# Ped_Sub_ADCs_2D.Draw(\"colz\")"
   ]
  },
  {
   "cell_type": "code",
   "execution_count": 32,
   "metadata": {
    "collapsed": false
   },
   "outputs": [
    {
     "ename": "SyntaxError",
     "evalue": "invalid syntax (<ipython-input-32-8756470f1b2b>, line 1)",
     "output_type": "error",
     "traceback": [
      "\u001b[1;36m  File \u001b[1;32m\"<ipython-input-32-8756470f1b2b>\"\u001b[1;36m, line \u001b[1;32m1\u001b[0m\n\u001b[1;33m    class(g1)\u001b[0m\n\u001b[1;37m         ^\u001b[0m\n\u001b[1;31mSyntaxError\u001b[0m\u001b[1;31m:\u001b[0m invalid syntax\n"
     ]
    }
   ],
   "source": [
    "class(g1)"
   ]
  },
  {
   "cell_type": "code",
   "execution_count": null,
   "metadata": {
    "collapsed": false
   },
   "outputs": [],
   "source": [
    "c = ROOT.TCanvas(\"myCanvasName\",\"The Canvas Title\",800,600)\n",
    "\n",
    "g1.Draw()\n",
    "\n",
    "c.Draw()\n",
    "\n"
   ]
  }
 ],
 "metadata": {
  "kernelspec": {
   "display_name": "Python 2",
   "language": "python",
   "name": "python2"
  },
  "language_info": {
   "codemirror_mode": {
    "name": "ipython",
    "version": 2
   },
   "file_extension": ".py",
   "mimetype": "text/x-python",
   "name": "python",
   "nbconvert_exporter": "python",
   "pygments_lexer": "ipython2",
   "version": "2.7.6"
  }
 },
 "nbformat": 4,
 "nbformat_minor": 0
}
